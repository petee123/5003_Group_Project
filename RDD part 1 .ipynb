{
 "cells": [
  {
   "cell_type": "code",
   "execution_count": 3,
   "metadata": {},
   "outputs": [],
   "source": [
    "from pyspark.sql import SparkSession\n",
    "from pyspark.ml.feature import Tokenizer\n",
    "from pyspark.ml.feature import StopWordsRemover\n",
    "from pyspark.sql.functions import udf\n",
    "from pyspark.sql.types import *\n",
    "import re"
   ]
  },
  {
   "cell_type": "code",
   "execution_count": 4,
   "metadata": {},
   "outputs": [],
   "source": [
    "#create sparksession\n",
    "spark = SparkSession.builder.appName('ml').getOrCreate()"
   ]
  },
  {
   "cell_type": "code",
   "execution_count": 5,
   "metadata": {},
   "outputs": [],
   "source": [
    "data1=spark.read.json(\"Toys_and_Games_5.json\").select(\"reviewText\",\"overall\")\n",
    "data2=spark.read.json(\"Sports_and_Outdoors_5.json\").select(\"reviewText\",\"overall\")\n",
    "data3=spark.read.json(\"Video_Games_5.json\").select(\"reviewText\",\"overall\")"
   ]
  },
  {
   "cell_type": "code",
   "execution_count": 6,
   "metadata": {},
   "outputs": [],
   "source": [
    "data4=data1.unionAll(data2).unionAll(data3)"
   ]
  },
  {
   "cell_type": "code",
   "execution_count": 7,
   "metadata": {},
   "outputs": [],
   "source": [
    "proportion = data4.select(\"overall\")\\\n",
    "         .groupBy(\"overall\")\\\n",
    "         .count()\\\n",
    "         .toPandas()"
   ]
  },
  {
   "cell_type": "code",
   "execution_count": 8,
   "metadata": {},
   "outputs": [],
   "source": [
    "proportion[\"count_normalized\"] = proportion[\"count\"]/sum(proportion[\"count\"])"
   ]
  },
  {
   "cell_type": "code",
   "execution_count": 9,
   "metadata": {},
   "outputs": [
    {
     "data": {
      "text/html": [
       "<div>\n",
       "<style scoped>\n",
       "    .dataframe tbody tr th:only-of-type {\n",
       "        vertical-align: middle;\n",
       "    }\n",
       "\n",
       "    .dataframe tbody tr th {\n",
       "        vertical-align: top;\n",
       "    }\n",
       "\n",
       "    .dataframe thead th {\n",
       "        text-align: right;\n",
       "    }\n",
       "</style>\n",
       "<table border=\"1\" class=\"dataframe\">\n",
       "  <thead>\n",
       "    <tr style=\"text-align: right;\">\n",
       "      <th></th>\n",
       "      <th>overall</th>\n",
       "      <th>count</th>\n",
       "      <th>count_normalized</th>\n",
       "    </tr>\n",
       "  </thead>\n",
       "  <tbody>\n",
       "    <tr>\n",
       "      <th>0</th>\n",
       "      <td>1.0</td>\n",
       "      <td>28605</td>\n",
       "      <td>0.041116</td>\n",
       "    </tr>\n",
       "    <tr>\n",
       "      <th>1</th>\n",
       "      <td>2.0</td>\n",
       "      <td>30165</td>\n",
       "      <td>0.043358</td>\n",
       "    </tr>\n",
       "    <tr>\n",
       "      <th>2</th>\n",
       "      <td>3.0</td>\n",
       "      <td>68703</td>\n",
       "      <td>0.098752</td>\n",
       "    </tr>\n",
       "    <tr>\n",
       "      <th>3</th>\n",
       "      <td>4.0</td>\n",
       "      <td>157058</td>\n",
       "      <td>0.225751</td>\n",
       "    </tr>\n",
       "    <tr>\n",
       "      <th>4</th>\n",
       "      <td>5.0</td>\n",
       "      <td>411183</td>\n",
       "      <td>0.591023</td>\n",
       "    </tr>\n",
       "  </tbody>\n",
       "</table>\n",
       "</div>"
      ],
      "text/plain": [
       "   overall   count  count_normalized\n",
       "0      1.0   28605          0.041116\n",
       "1      2.0   30165          0.043358\n",
       "2      3.0   68703          0.098752\n",
       "3      4.0  157058          0.225751\n",
       "4      5.0  411183          0.591023"
      ]
     },
     "execution_count": 9,
     "metadata": {},
     "output_type": "execute_result"
    }
   ],
   "source": [
    "proportion = proportion.sort_values(\"overall\").reset_index().drop('index', axis=1)\n",
    "proportion"
   ]
  },
  {
   "cell_type": "code",
   "execution_count": 10,
   "metadata": {},
   "outputs": [
    {
     "data": {
      "image/png": "[encoded data removed]",
      "text/plain": [
       "<Figure size 432x288 with 1 Axes>"
      ]
     },
     "metadata": {},
     "output_type": "display_data"
    }
   ],
   "source": [
    "import matplotlib.pyplot as plt\n",
    "\n",
    "# Pie chart, where the slices will be ordered and plotted counter-clockwise:\n",
    "labels = '1', '2', '3', '4','5'\n",
    "sizes = [0.041116, 0.043358, 0.098752,0.225751,0.591023]\n",
    "explode = (0.1, 0, 0, 0,0.1)  \n",
    "\n",
    "fig1, ax1 = plt.subplots()\n",
    "ax1.pie(sizes, explode=explode, labels=labels, autopct='%1.1f%%',\n",
    "        shadow=True, startangle=90)\n",
    "ax1.axis('equal')  \n",
    "plt.title('Rating distribution of Amazon reviews')\n",
    "plt.show()"
   ]
  },
  {
   "cell_type": "code",
   "execution_count": 19,
   "metadata": {},
   "outputs": [],
   "source": [
    "data5= data4.select(\"reviewText\")"
   ]
  },
  {
   "cell_type": "code",
   "execution_count": 20,
   "metadata": {},
   "outputs": [
    {
     "name": "stdout",
     "output_type": "stream",
     "text": [
      "+--------------------+\n",
      "|          reviewText|\n",
      "+--------------------+\n",
      "|I like the item p...|\n",
      "|Love the magnet e...|\n",
      "|Both sides are ma...|\n",
      "|Bought one a few ...|\n",
      "|I have a stainles...|\n",
      "|this is a nice ma...|\n",
      "|This is just as I...|\n",
      "|My granddaughter ...|\n",
      "|This is good prod...|\n",
      "|I keep this board...|\n",
      "|Very nice to use ...|\n",
      "|Bought this board...|\n",
      "|The board had to ...|\n",
      "|sturdy and perfec...|\n",
      "|We had purchased ...|\n",
      "|We purchased this...|\n",
      "|This easel is the...|\n",
      "|This is my absolu...|\n",
      "|Working with Mand...|\n",
      "|This book contain...|\n",
      "+--------------------+\n",
      "only showing top 20 rows\n",
      "\n"
     ]
    }
   ],
   "source": [
    "data5.show()"
   ]
  },
  {
   "cell_type": "code",
   "execution_count": 21,
   "metadata": {},
   "outputs": [],
   "source": [
    "def clean_data(text):\n",
    "    content=str(text).lower()\n",
    "    content=re.sub('[^a-z ]+', ' ',content)\n",
    "    content=re.sub('\\s+', ' ',content).strip()\n",
    "    return content"
   ]
  },
  {
   "cell_type": "code",
   "execution_count": 22,
   "metadata": {},
   "outputs": [],
   "source": [
    "clean_data_udf=udf(clean_data, StringType())\n",
    "data5=data5.withColumn(\"reviewText_clean\",clean_data_udf(\"reviewText\"))"
   ]
  },
  {
   "cell_type": "code",
   "execution_count": 23,
   "metadata": {},
   "outputs": [
    {
     "name": "stdout",
     "output_type": "stream",
     "text": [
      "+--------------------+\n",
      "|    reviewText_clean|\n",
      "+--------------------+\n",
      "|i like the item p...|\n",
      "|love the magnet e...|\n",
      "|both sides are ma...|\n",
      "|bought one a few ...|\n",
      "|i have a stainles...|\n",
      "|this is a nice ma...|\n",
      "|this is just as i...|\n",
      "|my granddaughter ...|\n",
      "|this is good prod...|\n",
      "|i keep this board...|\n",
      "|very nice to use ...|\n",
      "|bought this board...|\n",
      "|the board had to ...|\n",
      "|sturdy and perfec...|\n",
      "|we had purchased ...|\n",
      "|we purchased this...|\n",
      "|this easel is the...|\n",
      "|this is my absolu...|\n",
      "|working with mand...|\n",
      "|this book contain...|\n",
      "+--------------------+\n",
      "only showing top 20 rows\n",
      "\n"
     ]
    }
   ],
   "source": [
    "data5.select(\"reviewText_clean\").show()"
   ]
  },
  {
   "cell_type": "code",
   "execution_count": 25,
   "metadata": {},
   "outputs": [],
   "source": [
    "#tokenizer\n",
    "tokenizer = Tokenizer(inputCol=\"reviewText_clean\", outputCol=\"words\")\n",
    "data5 = tokenizer.transform(data5)"
   ]
  },
  {
   "cell_type": "code",
   "execution_count": 26,
   "metadata": {},
   "outputs": [
    {
     "name": "stdout",
     "output_type": "stream",
     "text": [
      "+--------------------+--------------------+--------------------+\n",
      "|          reviewText|    reviewText_clean|               words|\n",
      "+--------------------+--------------------+--------------------+\n",
      "|I like the item p...|i like the item p...|[i, like, the, it...|\n",
      "|Love the magnet e...|love the magnet e...|[love, the, magne...|\n",
      "|Both sides are ma...|both sides are ma...|[both, sides, are...|\n",
      "|Bought one a few ...|bought one a few ...|[bought, one, a, ...|\n",
      "|I have a stainles...|i have a stainles...|[i, have, a, stai...|\n",
      "|this is a nice ma...|this is a nice ma...|[this, is, a, nic...|\n",
      "|This is just as I...|this is just as i...|[this, is, just, ...|\n",
      "|My granddaughter ...|my granddaughter ...|[my, granddaughte...|\n",
      "|This is good prod...|this is good prod...|[this, is, good, ...|\n",
      "|I keep this board...|i keep this board...|[i, keep, this, b...|\n",
      "|Very nice to use ...|very nice to use ...|[very, nice, to, ...|\n",
      "|Bought this board...|bought this board...|[bought, this, bo...|\n",
      "|The board had to ...|the board had to ...|[the, board, had,...|\n",
      "|sturdy and perfec...|sturdy and perfec...|[sturdy, and, per...|\n",
      "|We had purchased ...|we had purchased ...|[we, had, purchas...|\n",
      "|We purchased this...|we purchased this...|[we, purchased, t...|\n",
      "|This easel is the...|this easel is the...|[this, easel, is,...|\n",
      "|This is my absolu...|this is my absolu...|[this, is, my, ab...|\n",
      "|Working with Mand...|working with mand...|[working, with, m...|\n",
      "|This book contain...|this book contain...|[this, book, cont...|\n",
      "+--------------------+--------------------+--------------------+\n",
      "only showing top 20 rows\n",
      "\n"
     ]
    }
   ],
   "source": [
    "data5.show()"
   ]
  },
  {
   "cell_type": "code",
   "execution_count": 27,
   "metadata": {},
   "outputs": [],
   "source": [
    "swr = StopWordsRemover(inputCol = 'words', outputCol = 'words_sw_removed')\n",
    "data5 = swr.transform(data5)"
   ]
  },
  {
   "cell_type": "code",
   "execution_count": 28,
   "metadata": {},
   "outputs": [
    {
     "name": "stdout",
     "output_type": "stream",
     "text": [
      "+--------------------+--------------------+--------------------+--------------------+\n",
      "|          reviewText|    reviewText_clean|               words|    words_sw_removed|\n",
      "+--------------------+--------------------+--------------------+--------------------+\n",
      "|I like the item p...|i like the item p...|[i, like, the, it...|[like, item, pric...|\n",
      "|Love the magnet e...|love the magnet e...|[love, the, magne...|[love, magnet, ea...|\n",
      "|Both sides are ma...|both sides are ma...|[both, sides, are...|[sides, magnetic,...|\n",
      "|Bought one a few ...|bought one a few ...|[bought, one, a, ...|[bought, one, yea...|\n",
      "|I have a stainles...|i have a stainles...|[i, have, a, stai...|[stainless, steel...|\n",
      "|this is a nice ma...|this is a nice ma...|[this, is, a, nic...|[nice, magnetic, ...|\n",
      "|This is just as I...|this is just as i...|[this, is, just, ...|[expected, sturdy...|\n",
      "|My granddaughter ...|my granddaughter ...|[my, granddaughte...|[granddaughter, r...|\n",
      "|This is good prod...|this is good prod...|[this, is, good, ...|[good, product, u...|\n",
      "|I keep this board...|i keep this board...|[i, keep, this, b...|[keep, board, top...|\n",
      "|Very nice to use ...|very nice to use ...|[very, nice, to, ...|[nice, use, magne...|\n",
      "|Bought this board...|bought this board...|[bought, this, bo...|[bought, board, a...|\n",
      "|The board had to ...|the board had to ...|[the, board, had,...|[board, put, away...|\n",
      "|sturdy and perfec...|sturdy and perfec...|[sturdy, and, per...|[sturdy, perfect,...|\n",
      "|We had purchased ...|we had purchased ...|[we, had, purchas...|[purchased, melis...|\n",
      "|We purchased this...|we purchased this...|[we, purchased, t...|[purchased, go, m...|\n",
      "|This easel is the...|this easel is the...|[this, easel, is,...|[easel, perfect, ...|\n",
      "|This is my absolu...|this is my absolu...|[this, is, my, ab...|[absolute, favori...|\n",
      "|Working with Mand...|working with mand...|[working, with, m...|[working, mandala...|\n",
      "|This book contain...|this book contain...|[this, book, cont...|[book, contains, ...|\n",
      "+--------------------+--------------------+--------------------+--------------------+\n",
      "only showing top 20 rows\n",
      "\n"
     ]
    }
   ],
   "source": [
    "data5.show()"
   ]
  },
  {
   "cell_type": "code",
   "execution_count": 29,
   "metadata": {},
   "outputs": [
    {
     "name": "stdout",
     "output_type": "stream",
     "text": [
      "+--------------------+\n",
      "|    words_sw_removed|\n",
      "+--------------------+\n",
      "|[like, item, pric...|\n",
      "|[love, magnet, ea...|\n",
      "|[sides, magnetic,...|\n",
      "|[bought, one, yea...|\n",
      "|[stainless, steel...|\n",
      "|[nice, magnetic, ...|\n",
      "|[expected, sturdy...|\n",
      "|[granddaughter, r...|\n",
      "|[good, product, u...|\n",
      "|[keep, board, top...|\n",
      "|[nice, use, magne...|\n",
      "|[bought, board, a...|\n",
      "|[board, put, away...|\n",
      "|[sturdy, perfect,...|\n",
      "|[purchased, melis...|\n",
      "|[purchased, go, m...|\n",
      "|[easel, perfect, ...|\n",
      "|[absolute, favori...|\n",
      "|[working, mandala...|\n",
      "|[book, contains, ...|\n",
      "+--------------------+\n",
      "only showing top 20 rows\n",
      "\n"
     ]
    }
   ],
   "source": [
    "data5.select(\"words_sw_removed\").show()"
   ]
  },
  {
   "cell_type": "code",
   "execution_count": 88,
   "metadata": {},
   "outputs": [
    {
     "data": {
      "text/plain": [
       "[('the', 866568),\n",
       " ('and', 519341),\n",
       " ('it', 463592),\n",
       " ('a', 444148),\n",
       " ('to', 441953),\n",
       " ('i', 332409),\n",
       " ('is', 300496),\n",
       " ('of', 271461),\n",
       " ('this', 267971),\n",
       " ('for', 252381),\n",
       " ('with', 196603),\n",
       " ('that', 183170),\n",
       " ('my', 179061),\n",
       " ('in', 163249),\n",
       " ('you', 139550),\n",
       " ('are', 128585),\n",
       " ('but', 127703),\n",
       " ('on', 125047),\n",
       " ('s', 122505),\n",
       " ('have', 107730)]"
      ]
     },
     "execution_count": 88,
     "metadata": {},
     "output_type": "execute_result"
    }
   ],
   "source": [
    "data5.select(\"words\").rdd.flatMap(lambda x:x[0]).map(lambda word: (word, 1)).reduceByKey(lambda a, b: a+b).sortBy(lambda x: x[1], False).take(20)"
   ]
  },
  {
   "cell_type": "code",
   "execution_count": null,
   "metadata": {},
   "outputs": [],
   "source": []
  }
 ],
 "metadata": {
  "kernelspec": {
   "display_name": "Python 3",
   "language": "python",
   "name": "python3"
  },
  "language_info": {
   "codemirror_mode": {
    "name": "ipython",
    "version": 3
   },
   "file_extension": ".py",
   "mimetype": "text/x-python",
   "name": "python",
   "nbconvert_exporter": "python",
   "pygments_lexer": "ipython3",
   "version": "3.8.3"
  }
 },
 "nbformat": 4,
 "nbformat_minor": 2
}
