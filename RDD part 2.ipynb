{
 "cells": [
  {
   "cell_type": "code",
   "execution_count": 46,
   "metadata": {},
   "outputs": [],
   "source": [
    "from pyspark.sql import SparkSession\n",
    "from pyspark.ml.feature import Tokenizer\n",
    "from pyspark.ml.feature import StopWordsRemover\n",
    "from pyspark.sql.functions import udf\n",
    "from pyspark.sql.types import *\n",
    "import re"
   ]
  },
  {
   "cell_type": "code",
   "execution_count": 59,
   "metadata": {},
   "outputs": [],
   "source": [
    "#create sparksession\n",
    "spark = SparkSession.builder.appName('ml').getOrCreate()"
   ]
  },
  {
   "cell_type": "code",
   "execution_count": 60,
   "metadata": {},
   "outputs": [],
   "source": [
    "data1=spark.read.json(\"C:\\\\Users\\\\ums_guolinye\\\\Desktop\\\\Toys_and_Games_5.json\").select(\"reviewText\")"
   ]
  },
  {
   "cell_type": "code",
   "execution_count": 61,
   "metadata": {},
   "outputs": [
    {
     "name": "stdout",
     "output_type": "stream",
     "text": [
      "+--------------------+\n",
      "|          reviewText|\n",
      "+--------------------+\n",
      "|I like the item p...|\n",
      "|Love the magnet e...|\n",
      "|Both sides are ma...|\n",
      "|Bought one a few ...|\n",
      "|I have a stainles...|\n",
      "|this is a nice ma...|\n",
      "|This is just as I...|\n",
      "|My granddaughter ...|\n",
      "|This is good prod...|\n",
      "|I keep this board...|\n",
      "|Very nice to use ...|\n",
      "|Bought this board...|\n",
      "|The board had to ...|\n",
      "|sturdy and perfec...|\n",
      "|We had purchased ...|\n",
      "|We purchased this...|\n",
      "|This easel is the...|\n",
      "|This is my absolu...|\n",
      "|Working with Mand...|\n",
      "|This book contain...|\n",
      "+--------------------+\n",
      "only showing top 20 rows\n",
      "\n"
     ]
    }
   ],
   "source": [
    "data1.show()"
   ]
  },
  {
   "cell_type": "code",
   "execution_count": 62,
   "metadata": {},
   "outputs": [],
   "source": [
    "def clean_data(text):\n",
    "    #将字母全部转为小写\n",
    "    content=str(text).lower()\n",
    "    #只保留单词，即去除其他字符\n",
    "    content=re.sub('[^a-z ]+', ' ',content)\n",
    "    #将多个空格转为一个空格\n",
    "    content=re.sub('\\s+', ' ',content).strip()\n",
    "    return content"
   ]
  },
  {
   "cell_type": "code",
   "execution_count": 63,
   "metadata": {},
   "outputs": [],
   "source": [
    "#自定义函数\n",
    "clean_data_udf=udf(clean_data, StringType())\n",
    "#对data_python数据的body列做数据预处理，即调用clean_data方法，生成新的列Body_clean\n",
    "data1=data1.withColumn(\"reviewText_clean\",clean_data_udf(\"reviewText\"))"
   ]
  },
  {
   "cell_type": "code",
   "execution_count": 64,
   "metadata": {},
   "outputs": [
    {
     "name": "stdout",
     "output_type": "stream",
     "text": [
      "+--------------------+\n",
      "|    reviewText_clean|\n",
      "+--------------------+\n",
      "|i like the item p...|\n",
      "|love the magnet e...|\n",
      "|both sides are ma...|\n",
      "|bought one a few ...|\n",
      "|i have a stainles...|\n",
      "|this is a nice ma...|\n",
      "|this is just as i...|\n",
      "|my granddaughter ...|\n",
      "|this is good prod...|\n",
      "|i keep this board...|\n",
      "|very nice to use ...|\n",
      "|bought this board...|\n",
      "|the board had to ...|\n",
      "|sturdy and perfec...|\n",
      "|we had purchased ...|\n",
      "|we purchased this...|\n",
      "|this easel is the...|\n",
      "|this is my absolu...|\n",
      "|working with mand...|\n",
      "|this book contain...|\n",
      "+--------------------+\n",
      "only showing top 20 rows\n",
      "\n"
     ]
    }
   ],
   "source": [
    "data1.select(\"reviewText_clean\").show()"
   ]
  },
  {
   "cell_type": "code",
   "execution_count": 65,
   "metadata": {},
   "outputs": [],
   "source": [
    "#tokenizer\n",
    "tokenizer = Tokenizer(inputCol=\"reviewText_clean\", outputCol=\"words\")\n",
    "data1 = tokenizer.transform(data1)"
   ]
  },
  {
   "cell_type": "code",
   "execution_count": 66,
   "metadata": {},
   "outputs": [
    {
     "name": "stdout",
     "output_type": "stream",
     "text": [
      "+--------------------+--------------------+--------------------+\n",
      "|          reviewText|    reviewText_clean|               words|\n",
      "+--------------------+--------------------+--------------------+\n",
      "|I like the item p...|i like the item p...|[i, like, the, it...|\n",
      "|Love the magnet e...|love the magnet e...|[love, the, magne...|\n",
      "|Both sides are ma...|both sides are ma...|[both, sides, are...|\n",
      "|Bought one a few ...|bought one a few ...|[bought, one, a, ...|\n",
      "|I have a stainles...|i have a stainles...|[i, have, a, stai...|\n",
      "|this is a nice ma...|this is a nice ma...|[this, is, a, nic...|\n",
      "|This is just as I...|this is just as i...|[this, is, just, ...|\n",
      "|My granddaughter ...|my granddaughter ...|[my, granddaughte...|\n",
      "|This is good prod...|this is good prod...|[this, is, good, ...|\n",
      "|I keep this board...|i keep this board...|[i, keep, this, b...|\n",
      "|Very nice to use ...|very nice to use ...|[very, nice, to, ...|\n",
      "|Bought this board...|bought this board...|[bought, this, bo...|\n",
      "|The board had to ...|the board had to ...|[the, board, had,...|\n",
      "|sturdy and perfec...|sturdy and perfec...|[sturdy, and, per...|\n",
      "|We had purchased ...|we had purchased ...|[we, had, purchas...|\n",
      "|We purchased this...|we purchased this...|[we, purchased, t...|\n",
      "|This easel is the...|this easel is the...|[this, easel, is,...|\n",
      "|This is my absolu...|this is my absolu...|[this, is, my, ab...|\n",
      "|Working with Mand...|working with mand...|[working, with, m...|\n",
      "|This book contain...|this book contain...|[this, book, cont...|\n",
      "+--------------------+--------------------+--------------------+\n",
      "only showing top 20 rows\n",
      "\n"
     ]
    }
   ],
   "source": [
    "data1.show()"
   ]
  },
  {
   "cell_type": "code",
   "execution_count": 67,
   "metadata": {},
   "outputs": [],
   "source": [
    "swr = StopWordsRemover(inputCol = 'words', outputCol = 'words_sw_removed')\n",
    "data1 = swr.transform(data1)"
   ]
  },
  {
   "cell_type": "code",
   "execution_count": 68,
   "metadata": {},
   "outputs": [
    {
     "name": "stdout",
     "output_type": "stream",
     "text": [
      "+--------------------+--------------------+--------------------+--------------------+\n",
      "|          reviewText|    reviewText_clean|               words|    words_sw_removed|\n",
      "+--------------------+--------------------+--------------------+--------------------+\n",
      "|I like the item p...|i like the item p...|[i, like, the, it...|[like, item, pric...|\n",
      "|Love the magnet e...|love the magnet e...|[love, the, magne...|[love, magnet, ea...|\n",
      "|Both sides are ma...|both sides are ma...|[both, sides, are...|[sides, magnetic,...|\n",
      "|Bought one a few ...|bought one a few ...|[bought, one, a, ...|[bought, one, yea...|\n",
      "|I have a stainles...|i have a stainles...|[i, have, a, stai...|[stainless, steel...|\n",
      "|this is a nice ma...|this is a nice ma...|[this, is, a, nic...|[nice, magnetic, ...|\n",
      "|This is just as I...|this is just as i...|[this, is, just, ...|[expected, sturdy...|\n",
      "|My granddaughter ...|my granddaughter ...|[my, granddaughte...|[granddaughter, r...|\n",
      "|This is good prod...|this is good prod...|[this, is, good, ...|[good, product, u...|\n",
      "|I keep this board...|i keep this board...|[i, keep, this, b...|[keep, board, top...|\n",
      "|Very nice to use ...|very nice to use ...|[very, nice, to, ...|[nice, use, magne...|\n",
      "|Bought this board...|bought this board...|[bought, this, bo...|[bought, board, a...|\n",
      "|The board had to ...|the board had to ...|[the, board, had,...|[board, put, away...|\n",
      "|sturdy and perfec...|sturdy and perfec...|[sturdy, and, per...|[sturdy, perfect,...|\n",
      "|We had purchased ...|we had purchased ...|[we, had, purchas...|[purchased, melis...|\n",
      "|We purchased this...|we purchased this...|[we, purchased, t...|[purchased, go, m...|\n",
      "|This easel is the...|this easel is the...|[this, easel, is,...|[easel, perfect, ...|\n",
      "|This is my absolu...|this is my absolu...|[this, is, my, ab...|[absolute, favori...|\n",
      "|Working with Mand...|working with mand...|[working, with, m...|[working, mandala...|\n",
      "|This book contain...|this book contain...|[this, book, cont...|[book, contains, ...|\n",
      "+--------------------+--------------------+--------------------+--------------------+\n",
      "only showing top 20 rows\n",
      "\n"
     ]
    }
   ],
   "source": [
    "data1.show()"
   ]
  },
  {
   "cell_type": "code",
   "execution_count": 70,
   "metadata": {},
   "outputs": [
    {
     "name": "stdout",
     "output_type": "stream",
     "text": [
      "+--------------------+\n",
      "|    words_sw_removed|\n",
      "+--------------------+\n",
      "|[like, item, pric...|\n",
      "|[love, magnet, ea...|\n",
      "|[sides, magnetic,...|\n",
      "|[bought, one, yea...|\n",
      "|[stainless, steel...|\n",
      "|[nice, magnetic, ...|\n",
      "|[expected, sturdy...|\n",
      "|[granddaughter, r...|\n",
      "|[good, product, u...|\n",
      "|[keep, board, top...|\n",
      "|[nice, use, magne...|\n",
      "|[bought, board, a...|\n",
      "|[board, put, away...|\n",
      "|[sturdy, perfect,...|\n",
      "|[purchased, melis...|\n",
      "|[purchased, go, m...|\n",
      "|[easel, perfect, ...|\n",
      "|[absolute, favori...|\n",
      "|[working, mandala...|\n",
      "|[book, contains, ...|\n",
      "+--------------------+\n",
      "only showing top 20 rows\n",
      "\n"
     ]
    }
   ],
   "source": [
    "data1.select(\"words_sw_removed\").show()"
   ]
  },
  {
   "cell_type": "code",
   "execution_count": 72,
   "metadata": {},
   "outputs": [
    {
     "data": {
      "text/plain": [
       "[('one', 78092),\n",
       " ('game', 69250),\n",
       " ('old', 65264),\n",
       " ('toy', 63570),\n",
       " ('like', 61600),\n",
       " ('great', 59844),\n",
       " ('play', 57771),\n",
       " ('little', 55993),\n",
       " ('fun', 54362),\n",
       " ('year', 50977),\n",
       " ('get', 46928),\n",
       " ('kids', 45757),\n",
       " ('really', 45385),\n",
       " ('set', 43058),\n",
       " ('well', 42785),\n",
       " ('loves', 40324),\n",
       " ('love', 38779),\n",
       " ('time', 37771),\n",
       " ('son', 36033),\n",
       " ('also', 35690)]"
      ]
     },
     "execution_count": 72,
     "metadata": {},
     "output_type": "execute_result"
    }
   ],
   "source": [
    "data1.select(\"words_sw_removed\").rdd.flatMap(lambda x:x[0]).map(lambda word: (word, 1)).reduceByKey(lambda a, b: a+b).sortBy(lambda x: x[1], False).take(20)"
   ]
  },
  {
   "cell_type": "code",
   "execution_count": 73,
   "metadata": {},
   "outputs": [],
   "source": [
    "#####################################################################"
   ]
  },
  {
   "cell_type": "code",
   "execution_count": 74,
   "metadata": {},
   "outputs": [],
   "source": [
    "data2=spark.read.json(\"C:\\\\Users\\\\ums_guolinye\\\\Desktop\\\\Sports_and_Outdoors_5.json\").select(\"reviewText\")"
   ]
  },
  {
   "cell_type": "code",
   "execution_count": 75,
   "metadata": {},
   "outputs": [],
   "source": [
    "data2=data2.withColumn(\"reviewText_clean\",clean_data_udf(\"reviewText\"))"
   ]
  },
  {
   "cell_type": "code",
   "execution_count": 76,
   "metadata": {},
   "outputs": [],
   "source": [
    "data2 = tokenizer.transform(data2)"
   ]
  },
  {
   "cell_type": "code",
   "execution_count": 77,
   "metadata": {},
   "outputs": [],
   "source": [
    "data2 = swr.transform(data2)"
   ]
  },
  {
   "cell_type": "code",
   "execution_count": 78,
   "metadata": {},
   "outputs": [
    {
     "data": {
      "text/plain": [
       "[('one', 114907),\n",
       " ('great', 102257),\n",
       " ('use', 96282),\n",
       " ('like', 94927),\n",
       " ('well', 94530),\n",
       " ('good', 93356),\n",
       " ('get', 72470),\n",
       " ('knife', 63705),\n",
       " ('little', 53132),\n",
       " ('really', 49579),\n",
       " ('also', 49513),\n",
       " ('easy', 47885),\n",
       " ('much', 47461),\n",
       " ('time', 46635),\n",
       " ('price', 46305),\n",
       " ('used', 46286),\n",
       " ('fit', 46045),\n",
       " ('m', 45556),\n",
       " ('product', 43594),\n",
       " ('made', 42420)]"
      ]
     },
     "execution_count": 78,
     "metadata": {},
     "output_type": "execute_result"
    }
   ],
   "source": [
    "data2.select(\"words_sw_removed\").rdd.flatMap(lambda x:x[0]).map(lambda word: (word, 1)).reduceByKey(lambda a, b: a+b).sortBy(lambda x: x[1], False).take(20)"
   ]
  },
  {
   "cell_type": "code",
   "execution_count": null,
   "metadata": {},
   "outputs": [],
   "source": [
    "data3=spark.read.json(\"C:\\\\Users\\\\ums_guolinye\\\\Desktop\\\\VideoGames.json\").select(\"reviewText\")"
   ]
  },
  {
   "cell_type": "code",
   "execution_count": null,
   "metadata": {},
   "outputs": [],
   "source": [
    "data3=data3.withColumn(\"reviewText_clean\",clean_data_udf(\"reviewText\"))"
   ]
  },
  {
   "cell_type": "code",
   "execution_count": null,
   "metadata": {},
   "outputs": [],
   "source": [
    "data3 = tokenizer.transform(data3)"
   ]
  },
  {
   "cell_type": "code",
   "execution_count": null,
   "metadata": {},
   "outputs": [],
   "source": [
    "data3 = swr.transform(data3)"
   ]
  },
  {
   "cell_type": "code",
   "execution_count": null,
   "metadata": {},
   "outputs": [],
   "source": [
    "data3.select(\"words_sw_removed\").rdd.flatMap(lambda x:x[0]).map(lambda word: (word, 1)).reduceByKey(lambda a, b: a+b).sortBy(lambda x: x[1], False).take(20)"
   ]
  }
 ],
 "metadata": {
  "kernelspec": {
   "display_name": "Python 3",
   "language": "python",
   "name": "python3"
  },
  "language_info": {
   "codemirror_mode": {
    "name": "ipython",
    "version": 3
   },
   "file_extension": ".py",
   "mimetype": "text/x-python",
   "name": "python",
   "nbconvert_exporter": "python",
   "pygments_lexer": "ipython3",
   "version": "3.8.3"
  }
 },
 "nbformat": 4,
 "nbformat_minor": 2
}
